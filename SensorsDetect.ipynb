{
 "metadata": {
  "language_info": {
   "codemirror_mode": {
    "name": "ipython",
    "version": 3
   },
   "file_extension": ".py",
   "mimetype": "text/x-python",
   "name": "python",
   "nbconvert_exporter": "python",
   "pygments_lexer": "ipython3",
   "version": "3.9.1-final"
  },
  "orig_nbformat": 2,
  "kernelspec": {
   "name": "python38264bitdcd297efe2184dba976e96feec8210ba",
   "display_name": "Python 3.8.2 64-bit",
   "language": "python"
  }
 },
 "nbformat": 4,
 "nbformat_minor": 2,
 "cells": [
  {
   "cell_type": "code",
   "execution_count": 1,
   "metadata": {},
   "outputs": [],
   "source": [
    "import pandas as pd\n",
    "import numpy as np\n",
    "import matplotlib.pyplot as plt\n",
    "import datetime\n",
    "%matplotlib inline \n",
    "import scipy.integrate as integrate\n",
    "from scipy.optimize import curve_fit\n",
    "pd.options.display.max_rows = 12"
   ]
  },
  {
   "cell_type": "code",
   "execution_count": null,
   "metadata": {},
   "outputs": [],
   "source": [
    "data_raw = '/Users/admin/OneDrive/Thesis/Code/input/data.txt'"
   ]
  },
  {
   "cell_type": "code",
   "execution_count": 8,
   "metadata": {},
   "outputs": [
    {
     "output_type": "execute_result",
     "data": {
      "text/plain": [
       "         date             time  epoch  moteid      temp  humidity  light  \\\n",
       "0  2004-03-31  03:38:15.757551      2     1.0  122.1530  -3.91901  11.04   \n",
       "1  2004-02-28   00:59:16.02785      3     1.0   19.9884  37.09330  45.08   \n",
       "2  2004-02-28   01:03:16.33393     11     1.0   19.3024  38.46290  45.08   \n",
       "3  2004-02-28  01:06:16.013453     17     1.0   19.1652  38.80390  45.08   \n",
       "4  2004-02-28  01:06:46.778088     18     1.0   19.1750  38.83790  45.08   \n",
       "\n",
       "   voltage  \n",
       "0  2.03397  \n",
       "1  2.69964  \n",
       "2  2.68742  \n",
       "3  2.68742  \n",
       "4  2.69964  "
      ],
      "text/html": "<div>\n<style scoped>\n    .dataframe tbody tr th:only-of-type {\n        vertical-align: middle;\n    }\n\n    .dataframe tbody tr th {\n        vertical-align: top;\n    }\n\n    .dataframe thead th {\n        text-align: right;\n    }\n</style>\n<table border=\"1\" class=\"dataframe\">\n  <thead>\n    <tr style=\"text-align: right;\">\n      <th></th>\n      <th>date</th>\n      <th>time</th>\n      <th>epoch</th>\n      <th>moteid</th>\n      <th>temp</th>\n      <th>humidity</th>\n      <th>light</th>\n      <th>voltage</th>\n    </tr>\n  </thead>\n  <tbody>\n    <tr>\n      <th>0</th>\n      <td>2004-03-31</td>\n      <td>03:38:15.757551</td>\n      <td>2</td>\n      <td>1.0</td>\n      <td>122.1530</td>\n      <td>-3.91901</td>\n      <td>11.04</td>\n      <td>2.03397</td>\n    </tr>\n    <tr>\n      <th>1</th>\n      <td>2004-02-28</td>\n      <td>00:59:16.02785</td>\n      <td>3</td>\n      <td>1.0</td>\n      <td>19.9884</td>\n      <td>37.09330</td>\n      <td>45.08</td>\n      <td>2.69964</td>\n    </tr>\n    <tr>\n      <th>2</th>\n      <td>2004-02-28</td>\n      <td>01:03:16.33393</td>\n      <td>11</td>\n      <td>1.0</td>\n      <td>19.3024</td>\n      <td>38.46290</td>\n      <td>45.08</td>\n      <td>2.68742</td>\n    </tr>\n    <tr>\n      <th>3</th>\n      <td>2004-02-28</td>\n      <td>01:06:16.013453</td>\n      <td>17</td>\n      <td>1.0</td>\n      <td>19.1652</td>\n      <td>38.80390</td>\n      <td>45.08</td>\n      <td>2.68742</td>\n    </tr>\n    <tr>\n      <th>4</th>\n      <td>2004-02-28</td>\n      <td>01:06:46.778088</td>\n      <td>18</td>\n      <td>1.0</td>\n      <td>19.1750</td>\n      <td>38.83790</td>\n      <td>45.08</td>\n      <td>2.69964</td>\n    </tr>\n  </tbody>\n</table>\n</div>"
     },
     "metadata": {},
     "execution_count": 8
    }
   ],
   "source": [
    "data = pd.read_csv(data_raw, sep = ' ',header = None, names = ['date', 'time','epoch','moteid','temp','humidity','light','voltage'])\n",
    "data.head()"
   ]
  },
  {
   "cell_type": "code",
   "execution_count": null,
   "metadata": {},
   "outputs": [],
   "source": []
  }
 ]
}
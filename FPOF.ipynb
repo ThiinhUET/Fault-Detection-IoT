{
 "cells": [
  {
   "cell_type": "code",
   "execution_count": 1,
   "metadata": {},
   "outputs": [],
   "source": [
    "import pandas as pd\n",
    "import numpy as np\n",
    "import datetime\n",
    "import matplotlib.pyplot as plt\n",
    "from mlxtend.frequent_patterns import apriori\n",
    "from mlxtend.frequent_patterns import fpgrowth\n",
    "from mlxtend.frequent_patterns import fpmax\n",
    "import itertools\n",
    "import copy\n",
    "import numpy as np\n",
    "from scipy.stats import stats\n",
    "import random\n",
    "import pickle\n",
    "\n",
    "import os\n",
    "import sys"
   ]
  },
  {
   "cell_type": "markdown",
   "metadata": {},
   "source": [
    "# Preprocess Data\n",
    "   * Identifiers starting with \"BA\" indicate sensor battery levels - (0-100)\n",
    "   * Identifiers starting with \"D\" indicate magnetic door sensors - (open/close)\n",
    "   * Identifiers starting with \"L\" and \"LL\" indicate light switches - (on/off)\n",
    "   * Identifiers starting with \"LS\" indicate light sensors - numeric\n",
    "   * Identifiers starting with \"M\" indicate infrared motion sensors - binary\n",
    "   * Identifiers starting with \"MA\" indicate wide-area infrared motion sensors - bin\n",
    "   * Identifiers starting with \"T\" indicate temperature sensors - numeric"
   ]
  },
  {
   "cell_type": "code",
   "execution_count": 3,
   "metadata": {},
   "outputs": [],
   "source": [
    "raw_data = './hh102/rawdata.txt'\n",
    "pickle_data='./hh102/rawdata.pkl'\n",
    "unique_value='./hh102/unique_device_value.pkl'"
   ]
  },
  {
   "cell_type": "code",
   "execution_count": 4,
   "metadata": {},
   "outputs": [],
   "source": [
    "def make_data():\n",
    "    df = pd.read_table(raw_data, delim_whitespace=True, names=('Time', 'Device', 'Value'))\n",
    "    return df"
   ]
  },
  {
   "cell_type": "code",
   "execution_count": 5,
   "metadata": {},
   "outputs": [],
   "source": [
    "def is_binary_device_by_df(df):\n",
    "    if (df['Device'][0:1] == 'M' \n",
    "        or df['Device'][0:1] == 'D' \n",
    "        or df['Device'][0:2] == 'L0'):\n",
    "        val = bool(True)\n",
    "    else:\n",
    "        val = bool(False)\n",
    "    return val"
   ]
  },
  {
   "cell_type": "code",
   "execution_count": 6,
   "metadata": {},
   "outputs": [],
   "source": [
    "df = make_data()\n",
    "df['binary_device'] = df.apply(is_binary_device_by_df, axis=1)\n",
    "df.to_pickle(pickle_data)\n"
   ]
  },
  {
   "cell_type": "code",
   "execution_count": 10,
   "metadata": {},
   "outputs": [
    {
     "output_type": "execute_result",
     "data": {
      "text/plain": [
       "                       Time   Device  Value  binary_device\n",
       "2011-06-13  12:29:06.215521     M012    OFF           True\n",
       "2011-06-13   12:29:06.26804     M005    OFF           True\n",
       "2011-06-13    12:29:06.3225     M011    OFF           True\n",
       "2011-06-13  12:29:06.375079    LS012     17          False\n",
       "2011-06-13   12:29:06.41612  BATP012    100          False\n",
       "2011-06-13  12:29:06.492345  BATV012   9580          False\n",
       "2011-06-13  12:29:06.535376     D006  CLOSE           True\n",
       "2011-06-13  12:29:06.723627     D005  CLOSE           True\n",
       "2011-06-13  12:29:06.767742    MA009    OFF           True\n",
       "2011-06-13   12:29:06.81956    LS010     35          False\n",
       "2011-06-13  12:29:06.890803  BATP010    100          False\n",
       "2011-06-13  12:29:06.935073  BATV010   9540          False\n",
       "2011-06-13  12:29:06.986266    MA010    OFF           True\n",
       "2011-06-13  12:29:07.042405    LS011     18          False\n",
       "2011-06-13  12:29:07.076313  BATP011    100          False\n",
       "2011-06-13  12:29:07.097287  BATV011   9540          False\n",
       "2011-06-13  12:29:07.120969     M007    OFF           True\n",
       "2011-06-13   12:29:07.14198    LS008     17          False\n",
       "2011-06-13  12:29:07.162466  BATP008    100          False\n",
       "2011-06-13  12:29:07.193132  BATV008   9560          False\n",
       "2011-06-13  12:29:07.213887     M021    OFF           True\n",
       "2011-06-13   12:29:07.23424    LS022      9          False\n",
       "2011-06-13  12:29:07.257675  BATP022    100          False\n",
       "2011-06-13  12:29:07.278901  BATV022   9520          False\n",
       "2011-06-13  12:29:07.323619    MA020    OFF           True\n",
       "2011-06-13  12:29:07.350653    LS009      9          False\n",
       "2011-06-13  12:29:07.371117  BATP009    100          False\n",
       "2011-06-13  12:29:07.394737  BATV009   9540          False\n",
       "2011-06-13   12:29:07.41563     M019    OFF           True\n",
       "2011-06-13  12:29:07.436087    LS020     13          False"
      ],
      "text/html": "<div>\n<style scoped>\n    .dataframe tbody tr th:only-of-type {\n        vertical-align: middle;\n    }\n\n    .dataframe tbody tr th {\n        vertical-align: top;\n    }\n\n    .dataframe thead th {\n        text-align: right;\n    }\n</style>\n<table border=\"1\" class=\"dataframe\">\n  <thead>\n    <tr style=\"text-align: right;\">\n      <th></th>\n      <th>Time</th>\n      <th>Device</th>\n      <th>Value</th>\n      <th>binary_device</th>\n    </tr>\n  </thead>\n  <tbody>\n    <tr>\n      <th>2011-06-13</th>\n      <td>12:29:06.215521</td>\n      <td>M012</td>\n      <td>OFF</td>\n      <td>True</td>\n    </tr>\n    <tr>\n      <th>2011-06-13</th>\n      <td>12:29:06.26804</td>\n      <td>M005</td>\n      <td>OFF</td>\n      <td>True</td>\n    </tr>\n    <tr>\n      <th>2011-06-13</th>\n      <td>12:29:06.3225</td>\n      <td>M011</td>\n      <td>OFF</td>\n      <td>True</td>\n    </tr>\n    <tr>\n      <th>2011-06-13</th>\n      <td>12:29:06.375079</td>\n      <td>LS012</td>\n      <td>17</td>\n      <td>False</td>\n    </tr>\n    <tr>\n      <th>2011-06-13</th>\n      <td>12:29:06.41612</td>\n      <td>BATP012</td>\n      <td>100</td>\n      <td>False</td>\n    </tr>\n    <tr>\n      <th>2011-06-13</th>\n      <td>12:29:06.492345</td>\n      <td>BATV012</td>\n      <td>9580</td>\n      <td>False</td>\n    </tr>\n    <tr>\n      <th>2011-06-13</th>\n      <td>12:29:06.535376</td>\n      <td>D006</td>\n      <td>CLOSE</td>\n      <td>True</td>\n    </tr>\n    <tr>\n      <th>2011-06-13</th>\n      <td>12:29:06.723627</td>\n      <td>D005</td>\n      <td>CLOSE</td>\n      <td>True</td>\n    </tr>\n    <tr>\n      <th>2011-06-13</th>\n      <td>12:29:06.767742</td>\n      <td>MA009</td>\n      <td>OFF</td>\n      <td>True</td>\n    </tr>\n    <tr>\n      <th>2011-06-13</th>\n      <td>12:29:06.81956</td>\n      <td>LS010</td>\n      <td>35</td>\n      <td>False</td>\n    </tr>\n    <tr>\n      <th>2011-06-13</th>\n      <td>12:29:06.890803</td>\n      <td>BATP010</td>\n      <td>100</td>\n      <td>False</td>\n    </tr>\n    <tr>\n      <th>2011-06-13</th>\n      <td>12:29:06.935073</td>\n      <td>BATV010</td>\n      <td>9540</td>\n      <td>False</td>\n    </tr>\n    <tr>\n      <th>2011-06-13</th>\n      <td>12:29:06.986266</td>\n      <td>MA010</td>\n      <td>OFF</td>\n      <td>True</td>\n    </tr>\n    <tr>\n      <th>2011-06-13</th>\n      <td>12:29:07.042405</td>\n      <td>LS011</td>\n      <td>18</td>\n      <td>False</td>\n    </tr>\n    <tr>\n      <th>2011-06-13</th>\n      <td>12:29:07.076313</td>\n      <td>BATP011</td>\n      <td>100</td>\n      <td>False</td>\n    </tr>\n    <tr>\n      <th>2011-06-13</th>\n      <td>12:29:07.097287</td>\n      <td>BATV011</td>\n      <td>9540</td>\n      <td>False</td>\n    </tr>\n    <tr>\n      <th>2011-06-13</th>\n      <td>12:29:07.120969</td>\n      <td>M007</td>\n      <td>OFF</td>\n      <td>True</td>\n    </tr>\n    <tr>\n      <th>2011-06-13</th>\n      <td>12:29:07.14198</td>\n      <td>LS008</td>\n      <td>17</td>\n      <td>False</td>\n    </tr>\n    <tr>\n      <th>2011-06-13</th>\n      <td>12:29:07.162466</td>\n      <td>BATP008</td>\n      <td>100</td>\n      <td>False</td>\n    </tr>\n    <tr>\n      <th>2011-06-13</th>\n      <td>12:29:07.193132</td>\n      <td>BATV008</td>\n      <td>9560</td>\n      <td>False</td>\n    </tr>\n    <tr>\n      <th>2011-06-13</th>\n      <td>12:29:07.213887</td>\n      <td>M021</td>\n      <td>OFF</td>\n      <td>True</td>\n    </tr>\n    <tr>\n      <th>2011-06-13</th>\n      <td>12:29:07.23424</td>\n      <td>LS022</td>\n      <td>9</td>\n      <td>False</td>\n    </tr>\n    <tr>\n      <th>2011-06-13</th>\n      <td>12:29:07.257675</td>\n      <td>BATP022</td>\n      <td>100</td>\n      <td>False</td>\n    </tr>\n    <tr>\n      <th>2011-06-13</th>\n      <td>12:29:07.278901</td>\n      <td>BATV022</td>\n      <td>9520</td>\n      <td>False</td>\n    </tr>\n    <tr>\n      <th>2011-06-13</th>\n      <td>12:29:07.323619</td>\n      <td>MA020</td>\n      <td>OFF</td>\n      <td>True</td>\n    </tr>\n    <tr>\n      <th>2011-06-13</th>\n      <td>12:29:07.350653</td>\n      <td>LS009</td>\n      <td>9</td>\n      <td>False</td>\n    </tr>\n    <tr>\n      <th>2011-06-13</th>\n      <td>12:29:07.371117</td>\n      <td>BATP009</td>\n      <td>100</td>\n      <td>False</td>\n    </tr>\n    <tr>\n      <th>2011-06-13</th>\n      <td>12:29:07.394737</td>\n      <td>BATV009</td>\n      <td>9540</td>\n      <td>False</td>\n    </tr>\n    <tr>\n      <th>2011-06-13</th>\n      <td>12:29:07.41563</td>\n      <td>M019</td>\n      <td>OFF</td>\n      <td>True</td>\n    </tr>\n    <tr>\n      <th>2011-06-13</th>\n      <td>12:29:07.436087</td>\n      <td>LS020</td>\n      <td>13</td>\n      <td>False</td>\n    </tr>\n  </tbody>\n</table>\n</div>"
     },
     "metadata": {},
     "execution_count": 10
    }
   ],
   "source": [
    "df = pd.read_pickle(pickle_data)\n",
    "df.head(30)\n",
    "\n"
   ]
  },
  {
   "cell_type": "code",
   "execution_count": 18,
   "metadata": {},
   "outputs": [
    {
     "output_type": "execute_result",
     "data": {
      "text/plain": [
       "         Time  Value  binary_device\n",
       "Device                             \n",
       "BATP001  1902     69              1\n",
       "BATP002  1821     84              1\n",
       "BATP003  1750     92              1\n",
       "BATP004  1991     90              1\n",
       "BATP005  1940     87              1\n",
       "...       ...    ...            ...\n",
       "T101     2547     14              1\n",
       "T102     2482      8              1\n",
       "T103     4252      9              1\n",
       "T104     5457      9              1\n",
       "T105     6273     10              1\n",
       "\n",
       "[127 rows x 3 columns]"
      ],
      "text/html": "<div>\n<style scoped>\n    .dataframe tbody tr th:only-of-type {\n        vertical-align: middle;\n    }\n\n    .dataframe tbody tr th {\n        vertical-align: top;\n    }\n\n    .dataframe thead th {\n        text-align: right;\n    }\n</style>\n<table border=\"1\" class=\"dataframe\">\n  <thead>\n    <tr style=\"text-align: right;\">\n      <th></th>\n      <th>Time</th>\n      <th>Value</th>\n      <th>binary_device</th>\n    </tr>\n    <tr>\n      <th>Device</th>\n      <th></th>\n      <th></th>\n      <th></th>\n    </tr>\n  </thead>\n  <tbody>\n    <tr>\n      <th>BATP001</th>\n      <td>1902</td>\n      <td>69</td>\n      <td>1</td>\n    </tr>\n    <tr>\n      <th>BATP002</th>\n      <td>1821</td>\n      <td>84</td>\n      <td>1</td>\n    </tr>\n    <tr>\n      <th>BATP003</th>\n      <td>1750</td>\n      <td>92</td>\n      <td>1</td>\n    </tr>\n    <tr>\n      <th>BATP004</th>\n      <td>1991</td>\n      <td>90</td>\n      <td>1</td>\n    </tr>\n    <tr>\n      <th>BATP005</th>\n      <td>1940</td>\n      <td>87</td>\n      <td>1</td>\n    </tr>\n    <tr>\n      <th>...</th>\n      <td>...</td>\n      <td>...</td>\n      <td>...</td>\n    </tr>\n    <tr>\n      <th>T101</th>\n      <td>2547</td>\n      <td>14</td>\n      <td>1</td>\n    </tr>\n    <tr>\n      <th>T102</th>\n      <td>2482</td>\n      <td>8</td>\n      <td>1</td>\n    </tr>\n    <tr>\n      <th>T103</th>\n      <td>4252</td>\n      <td>9</td>\n      <td>1</td>\n    </tr>\n    <tr>\n      <th>T104</th>\n      <td>5457</td>\n      <td>9</td>\n      <td>1</td>\n    </tr>\n    <tr>\n      <th>T105</th>\n      <td>6273</td>\n      <td>10</td>\n      <td>1</td>\n    </tr>\n  </tbody>\n</table>\n<p>127 rows × 3 columns</p>\n</div>"
     },
     "metadata": {},
     "execution_count": 18
    }
   ],
   "source": [
    "df1 = df.groupby('Device').nunique()\n",
    "df1\n"
   ]
  },
  {
   "cell_type": "code",
   "execution_count": 19,
   "metadata": {
    "tags": []
   },
   "outputs": [
    {
     "output_type": "execute_result",
     "data": {
      "text/plain": [
       "Device\n",
       "BATP001    [100, 99, 98, 94, 93, 92, 91, 90, 89, 88, 87, ...\n",
       "BATP002    [100, 99, 98, 94, 95, 93, 92, 91, 90, 89, 88, ...\n",
       "BATP003    [100, 99, 98, 97, 96, 94, 93, 95, 92, 91, 90, ...\n",
       "BATP004    [100, 99, 98, 97, 96, 93, 95, 94, 92, 91, 90, ...\n",
       "BATP005    [100, 99, 98, 97, 96, 95, 94, 93, 0, 92, 91, 9...\n",
       "                                 ...                        \n",
       "T101       [29, 30, 31, 32, 33, 34, 35, 36, 25, 26, 27, 2...\n",
       "T102                        [26, 25, 27, 24, 23, 22, 21, 28]\n",
       "T103                    [28, 27, 26, 25, 24, 23, 22, 29, 21]\n",
       "T104                    [29, 28, 27, 26, 25, 24, 23, 22, 21]\n",
       "T105                [26, 25, 24, 23, 22, 21, 20, 19, 18, 27]\n",
       "Length: 127, dtype: object"
      ]
     },
     "metadata": {},
     "execution_count": 19
    }
   ],
   "source": [
    "df2 = df.groupby('Device').apply(lambda x: x['Value'].unique())"
   ]
  },
  {
   "cell_type": "code",
   "execution_count": 20,
   "metadata": {},
   "outputs": [
    {
     "output_type": "execute_result",
     "data": {
      "text/plain": [
       "pandas.core.series.Series"
      ]
     },
     "metadata": {},
     "execution_count": 20
    }
   ],
   "source": [
    "type(df2)"
   ]
  },
  {
   "cell_type": "code",
   "execution_count": 26,
   "metadata": {},
   "outputs": [
    {
     "output_type": "execute_result",
     "data": {
      "text/plain": [
       "      Device                                             Values\n",
       "0    BATP001  [100, 99, 98, 94, 93, 92, 91, 90, 89, 88, 87, ...\n",
       "1    BATP002  [100, 99, 98, 94, 95, 93, 92, 91, 90, 89, 88, ...\n",
       "2    BATP003  [100, 99, 98, 97, 96, 94, 93, 95, 92, 91, 90, ...\n",
       "3    BATP004  [100, 99, 98, 97, 96, 93, 95, 94, 92, 91, 90, ...\n",
       "4    BATP005  [100, 99, 98, 97, 96, 95, 94, 93, 0, 92, 91, 9...\n",
       "..       ...                                                ...\n",
       "122     T101  [29, 30, 31, 32, 33, 34, 35, 36, 25, 26, 27, 2...\n",
       "123     T102                   [26, 25, 27, 24, 23, 22, 21, 28]\n",
       "124     T103               [28, 27, 26, 25, 24, 23, 22, 29, 21]\n",
       "125     T104               [29, 28, 27, 26, 25, 24, 23, 22, 21]\n",
       "126     T105           [26, 25, 24, 23, 22, 21, 20, 19, 18, 27]\n",
       "\n",
       "[127 rows x 2 columns]"
      ],
      "text/html": "<div>\n<style scoped>\n    .dataframe tbody tr th:only-of-type {\n        vertical-align: middle;\n    }\n\n    .dataframe tbody tr th {\n        vertical-align: top;\n    }\n\n    .dataframe thead th {\n        text-align: right;\n    }\n</style>\n<table border=\"1\" class=\"dataframe\">\n  <thead>\n    <tr style=\"text-align: right;\">\n      <th></th>\n      <th>Device</th>\n      <th>Values</th>\n    </tr>\n  </thead>\n  <tbody>\n    <tr>\n      <th>0</th>\n      <td>BATP001</td>\n      <td>[100, 99, 98, 94, 93, 92, 91, 90, 89, 88, 87, ...</td>\n    </tr>\n    <tr>\n      <th>1</th>\n      <td>BATP002</td>\n      <td>[100, 99, 98, 94, 95, 93, 92, 91, 90, 89, 88, ...</td>\n    </tr>\n    <tr>\n      <th>2</th>\n      <td>BATP003</td>\n      <td>[100, 99, 98, 97, 96, 94, 93, 95, 92, 91, 90, ...</td>\n    </tr>\n    <tr>\n      <th>3</th>\n      <td>BATP004</td>\n      <td>[100, 99, 98, 97, 96, 93, 95, 94, 92, 91, 90, ...</td>\n    </tr>\n    <tr>\n      <th>4</th>\n      <td>BATP005</td>\n      <td>[100, 99, 98, 97, 96, 95, 94, 93, 0, 92, 91, 9...</td>\n    </tr>\n    <tr>\n      <th>...</th>\n      <td>...</td>\n      <td>...</td>\n    </tr>\n    <tr>\n      <th>122</th>\n      <td>T101</td>\n      <td>[29, 30, 31, 32, 33, 34, 35, 36, 25, 26, 27, 2...</td>\n    </tr>\n    <tr>\n      <th>123</th>\n      <td>T102</td>\n      <td>[26, 25, 27, 24, 23, 22, 21, 28]</td>\n    </tr>\n    <tr>\n      <th>124</th>\n      <td>T103</td>\n      <td>[28, 27, 26, 25, 24, 23, 22, 29, 21]</td>\n    </tr>\n    <tr>\n      <th>125</th>\n      <td>T104</td>\n      <td>[29, 28, 27, 26, 25, 24, 23, 22, 21]</td>\n    </tr>\n    <tr>\n      <th>126</th>\n      <td>T105</td>\n      <td>[26, 25, 24, 23, 22, 21, 20, 19, 18, 27]</td>\n    </tr>\n  </tbody>\n</table>\n<p>127 rows × 2 columns</p>\n</div>"
     },
     "metadata": {},
     "execution_count": 26
    }
   ],
   "source": [
    "df3 = df2.to_frame().reset_index()\n",
    "df3.columns = ['Device', 'Values']\n",
    "df3"
   ]
  },
  {
   "cell_type": "code",
   "execution_count": null,
   "metadata": {},
   "outputs": [],
   "source": []
  }
 ],
 "metadata": {
  "kernelspec": {
   "name": "python3",
   "display_name": "Python 3",
   "language": "python"
  },
  "language_info": {
   "codemirror_mode": {
    "name": "ipython",
    "version": 3
   },
   "file_extension": ".py",
   "mimetype": "text/x-python",
   "name": "python",
   "nbconvert_exporter": "python",
   "pygments_lexer": "ipython3",
   "version": "3.9.2-final"
  }
 },
 "nbformat": 4,
 "nbformat_minor": 4
}